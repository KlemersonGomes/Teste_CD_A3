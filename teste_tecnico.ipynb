{
 "cells": [
  {
   "cell_type": "markdown",
   "id": "e4a2d186",
   "metadata": {},
   "source": [
    "## Hipóteses\n",
    "\n",
    "- H1: Os Incidentes representam mais de 50% das ocorrências e os Acidentes representam menos de 40% das Ocorrências.\n",
    "- H2: Em todos as classificações de ocorrências os relátórios levam em média até 365 dias para serem publicados a partir da data da ocorrência.\n",
    "- H3: A ocorrência de Acidentes cresce ao longo dos anos.\n",
    "- H4: A maior quantidade de acidentes acontece durante o período da noite.\n",
    "- H5: Os cincos estados que mais tiveram ocorrências registradas também são os cinco estados que mais registraram acidentes.\n",
    "- H6: O tipo de aeronave Avião é responsável por mais de 50% das ocorrências.\n",
    "- H7: Nos registros de acidentes a maior quantidade de nível de dano registrado está na categoria Substancial e Destruída.\n",
    "- H8: O motor de Pistão é o que apresenta maior ocorrências de falha em voo.\n",
    "- H9: As aeronaves que apresentaram a maior quantidade de ocorrencia por falha de motor em voo, são as aeronaves mais antigas."
   ]
  },
  {
   "cell_type": "markdown",
   "id": "5f6e5d10",
   "metadata": {},
   "source": [
    "### Importação das Bibliotecas"
   ]
  },
  {
   "cell_type": "code",
   "execution_count": 1,
   "id": "73bd6639",
   "metadata": {},
   "outputs": [],
   "source": [
    "import pandas as pd\n",
    "import numpy as np\n",
    "import datetime\n",
    "import matplotlib.pyplot as plt\n",
    "import seaborn as sns\n",
    "%matplotlib inline"
   ]
  },
  {
   "cell_type": "markdown",
   "id": "33807018",
   "metadata": {},
   "source": [
    "### Carregamento dos Dados"
   ]
  },
  {
   "cell_type": "code",
   "execution_count": 2,
   "id": "5b838d66",
   "metadata": {},
   "outputs": [],
   "source": [
    "ocorrencias = pd.read_csv('ocorrencia.csv', sep = ';')\n",
    "ocorrencia_tipo = pd.read_csv('ocorrencia_tipo.csv', sep = ';')\n",
    "aeronave = pd.read_csv('aeronave.csv', sep = ';')"
   ]
  },
  {
   "cell_type": "markdown",
   "id": "eae52446",
   "metadata": {},
   "source": [
    "### Visualização e entendimento dos dados"
   ]
  },
  {
   "cell_type": "code",
   "execution_count": 3,
   "id": "c0ad4ea5",
   "metadata": {},
   "outputs": [
    {
     "data": {
      "text/html": [
       "<div>\n",
       "<style scoped>\n",
       "    .dataframe tbody tr th:only-of-type {\n",
       "        vertical-align: middle;\n",
       "    }\n",
       "\n",
       "    .dataframe tbody tr th {\n",
       "        vertical-align: top;\n",
       "    }\n",
       "\n",
       "    .dataframe thead th {\n",
       "        text-align: right;\n",
       "    }\n",
       "</style>\n",
       "<table border=\"1\" class=\"dataframe\">\n",
       "  <thead>\n",
       "    <tr style=\"text-align: right;\">\n",
       "      <th></th>\n",
       "      <th>codigo_ocorrencia</th>\n",
       "      <th>codigo_ocorrencia1</th>\n",
       "      <th>codigo_ocorrencia2</th>\n",
       "      <th>codigo_ocorrencia3</th>\n",
       "      <th>codigo_ocorrencia4</th>\n",
       "      <th>ocorrencia_classificacao</th>\n",
       "      <th>ocorrencia_latitude</th>\n",
       "      <th>ocorrencia_longitude</th>\n",
       "      <th>ocorrencia_cidade</th>\n",
       "      <th>ocorrencia_uf</th>\n",
       "      <th>ocorrencia_pais</th>\n",
       "      <th>ocorrencia_aerodromo</th>\n",
       "      <th>ocorrencia_dia</th>\n",
       "      <th>ocorrencia_hora</th>\n",
       "      <th>investigacao_aeronave_liberada</th>\n",
       "      <th>investigacao_status</th>\n",
       "      <th>divulgacao_relatorio_numero</th>\n",
       "      <th>divulgacao_relatorio_publicado</th>\n",
       "      <th>divulgacao_dia_publicacao</th>\n",
       "      <th>total_recomendacoes</th>\n",
       "      <th>total_aeronaves_envolvidas</th>\n",
       "      <th>ocorrencia_saida_pista</th>\n",
       "    </tr>\n",
       "  </thead>\n",
       "  <tbody>\n",
       "    <tr>\n",
       "      <th>0</th>\n",
       "      <td>52242</td>\n",
       "      <td>52242</td>\n",
       "      <td>52242</td>\n",
       "      <td>52242</td>\n",
       "      <td>52242</td>\n",
       "      <td>INCIDENTE</td>\n",
       "      <td>NaN</td>\n",
       "      <td>NaN</td>\n",
       "      <td>PORTO ALEGRE</td>\n",
       "      <td>RS</td>\n",
       "      <td>BRASIL</td>\n",
       "      <td>SBPA</td>\n",
       "      <td>05/01/2012</td>\n",
       "      <td>20:27:00</td>\n",
       "      <td>***</td>\n",
       "      <td>FINALIZADA</td>\n",
       "      <td>***</td>\n",
       "      <td>NÃO</td>\n",
       "      <td>NaN</td>\n",
       "      <td>0</td>\n",
       "      <td>1</td>\n",
       "      <td>NÃO</td>\n",
       "    </tr>\n",
       "    <tr>\n",
       "      <th>1</th>\n",
       "      <td>45331</td>\n",
       "      <td>45331</td>\n",
       "      <td>45331</td>\n",
       "      <td>45331</td>\n",
       "      <td>45331</td>\n",
       "      <td>ACIDENTE</td>\n",
       "      <td>-23.4355555556</td>\n",
       "      <td>-46.4730555556</td>\n",
       "      <td>GUARULHOS</td>\n",
       "      <td>SP</td>\n",
       "      <td>BRASIL</td>\n",
       "      <td>SBGR</td>\n",
       "      <td>06/01/2012</td>\n",
       "      <td>13:44:00</td>\n",
       "      <td>SIM</td>\n",
       "      <td>FINALIZADA</td>\n",
       "      <td>A-582/CENIPA/2014</td>\n",
       "      <td>SIM</td>\n",
       "      <td>2016-09-01</td>\n",
       "      <td>3</td>\n",
       "      <td>1</td>\n",
       "      <td>NÃO</td>\n",
       "    </tr>\n",
       "    <tr>\n",
       "      <th>2</th>\n",
       "      <td>45333</td>\n",
       "      <td>45333</td>\n",
       "      <td>45333</td>\n",
       "      <td>45333</td>\n",
       "      <td>45333</td>\n",
       "      <td>ACIDENTE</td>\n",
       "      <td>***</td>\n",
       "      <td>***</td>\n",
       "      <td>VIAMÃO</td>\n",
       "      <td>RS</td>\n",
       "      <td>BRASIL</td>\n",
       "      <td>****</td>\n",
       "      <td>06/01/2012</td>\n",
       "      <td>13:00:00</td>\n",
       "      <td>NaN</td>\n",
       "      <td>FINALIZADA</td>\n",
       "      <td>A-070/CENIPA/2013</td>\n",
       "      <td>SIM</td>\n",
       "      <td>2013-11-27</td>\n",
       "      <td>0</td>\n",
       "      <td>1</td>\n",
       "      <td>NÃO</td>\n",
       "    </tr>\n",
       "    <tr>\n",
       "      <th>3</th>\n",
       "      <td>45401</td>\n",
       "      <td>45401</td>\n",
       "      <td>45401</td>\n",
       "      <td>45401</td>\n",
       "      <td>45401</td>\n",
       "      <td>ACIDENTE</td>\n",
       "      <td>***</td>\n",
       "      <td>***</td>\n",
       "      <td>SÃO SEBASTIÃO</td>\n",
       "      <td>SP</td>\n",
       "      <td>BRASIL</td>\n",
       "      <td>****</td>\n",
       "      <td>06/01/2012</td>\n",
       "      <td>17:00:00</td>\n",
       "      <td>***</td>\n",
       "      <td>NaN</td>\n",
       "      <td>NaN</td>\n",
       "      <td>NÃO</td>\n",
       "      <td>NaN</td>\n",
       "      <td>0</td>\n",
       "      <td>1</td>\n",
       "      <td>NÃO</td>\n",
       "    </tr>\n",
       "    <tr>\n",
       "      <th>4</th>\n",
       "      <td>45407</td>\n",
       "      <td>45407</td>\n",
       "      <td>45407</td>\n",
       "      <td>45407</td>\n",
       "      <td>45407</td>\n",
       "      <td>ACIDENTE</td>\n",
       "      <td>***</td>\n",
       "      <td>***</td>\n",
       "      <td>SÃO SEPÉ</td>\n",
       "      <td>RS</td>\n",
       "      <td>BRASIL</td>\n",
       "      <td>****</td>\n",
       "      <td>06/01/2012</td>\n",
       "      <td>16:30:00</td>\n",
       "      <td>SIM</td>\n",
       "      <td>FINALIZADA</td>\n",
       "      <td>A-071/CENIPA/2013</td>\n",
       "      <td>SIM</td>\n",
       "      <td>2013-11-27</td>\n",
       "      <td>0</td>\n",
       "      <td>1</td>\n",
       "      <td>NÃO</td>\n",
       "    </tr>\n",
       "  </tbody>\n",
       "</table>\n",
       "</div>"
      ],
      "text/plain": [
       "   codigo_ocorrencia  codigo_ocorrencia1  codigo_ocorrencia2  \\\n",
       "0              52242               52242               52242   \n",
       "1              45331               45331               45331   \n",
       "2              45333               45333               45333   \n",
       "3              45401               45401               45401   \n",
       "4              45407               45407               45407   \n",
       "\n",
       "   codigo_ocorrencia3  codigo_ocorrencia4 ocorrencia_classificacao  \\\n",
       "0               52242               52242                INCIDENTE   \n",
       "1               45331               45331                 ACIDENTE   \n",
       "2               45333               45333                 ACIDENTE   \n",
       "3               45401               45401                 ACIDENTE   \n",
       "4               45407               45407                 ACIDENTE   \n",
       "\n",
       "  ocorrencia_latitude ocorrencia_longitude ocorrencia_cidade ocorrencia_uf  \\\n",
       "0                 NaN                  NaN      PORTO ALEGRE            RS   \n",
       "1      -23.4355555556       -46.4730555556         GUARULHOS            SP   \n",
       "2                 ***                  ***            VIAMÃO            RS   \n",
       "3                 ***                  ***     SÃO SEBASTIÃO            SP   \n",
       "4                 ***                  ***          SÃO SEPÉ            RS   \n",
       "\n",
       "  ocorrencia_pais ocorrencia_aerodromo ocorrencia_dia ocorrencia_hora  \\\n",
       "0          BRASIL                 SBPA     05/01/2012        20:27:00   \n",
       "1          BRASIL                 SBGR     06/01/2012        13:44:00   \n",
       "2          BRASIL                 ****     06/01/2012        13:00:00   \n",
       "3          BRASIL                 ****     06/01/2012        17:00:00   \n",
       "4          BRASIL                 ****     06/01/2012        16:30:00   \n",
       "\n",
       "  investigacao_aeronave_liberada investigacao_status  \\\n",
       "0                            ***          FINALIZADA   \n",
       "1                            SIM          FINALIZADA   \n",
       "2                            NaN          FINALIZADA   \n",
       "3                            ***                 NaN   \n",
       "4                            SIM          FINALIZADA   \n",
       "\n",
       "  divulgacao_relatorio_numero divulgacao_relatorio_publicado  \\\n",
       "0                         ***                            NÃO   \n",
       "1           A-582/CENIPA/2014                            SIM   \n",
       "2           A-070/CENIPA/2013                            SIM   \n",
       "3                         NaN                            NÃO   \n",
       "4           A-071/CENIPA/2013                            SIM   \n",
       "\n",
       "  divulgacao_dia_publicacao  total_recomendacoes  total_aeronaves_envolvidas  \\\n",
       "0                       NaN                    0                           1   \n",
       "1                2016-09-01                    3                           1   \n",
       "2                2013-11-27                    0                           1   \n",
       "3                       NaN                    0                           1   \n",
       "4                2013-11-27                    0                           1   \n",
       "\n",
       "  ocorrencia_saida_pista  \n",
       "0                    NÃO  \n",
       "1                    NÃO  \n",
       "2                    NÃO  \n",
       "3                    NÃO  \n",
       "4                    NÃO  "
      ]
     },
     "execution_count": 3,
     "metadata": {},
     "output_type": "execute_result"
    }
   ],
   "source": [
    "pd.set_option('display.max_columns', None)\n",
    "ocorrencias.head()"
   ]
  },
  {
   "cell_type": "code",
   "execution_count": 4,
   "id": "465fdc9e",
   "metadata": {},
   "outputs": [
    {
     "data": {
      "text/plain": [
       "(5167, 22)"
      ]
     },
     "execution_count": 4,
     "metadata": {},
     "output_type": "execute_result"
    }
   ],
   "source": [
    "ocorrencias.shape"
   ]
  },
  {
   "cell_type": "code",
   "execution_count": 5,
   "id": "3df27de2",
   "metadata": {
    "scrolled": false
   },
   "outputs": [
    {
     "name": "stdout",
     "output_type": "stream",
     "text": [
      "<class 'pandas.core.frame.DataFrame'>\n",
      "RangeIndex: 5167 entries, 0 to 5166\n",
      "Data columns (total 22 columns):\n",
      " #   Column                          Non-Null Count  Dtype \n",
      "---  ------                          --------------  ----- \n",
      " 0   codigo_ocorrencia               5167 non-null   int64 \n",
      " 1   codigo_ocorrencia1              5167 non-null   int64 \n",
      " 2   codigo_ocorrencia2              5167 non-null   int64 \n",
      " 3   codigo_ocorrencia3              5167 non-null   int64 \n",
      " 4   codigo_ocorrencia4              5167 non-null   int64 \n",
      " 5   ocorrencia_classificacao        5167 non-null   object\n",
      " 6   ocorrencia_latitude             4192 non-null   object\n",
      " 7   ocorrencia_longitude            4192 non-null   object\n",
      " 8   ocorrencia_cidade               5167 non-null   object\n",
      " 9   ocorrencia_uf                   5167 non-null   object\n",
      " 10  ocorrencia_pais                 5167 non-null   object\n",
      " 11  ocorrencia_aerodromo            5167 non-null   object\n",
      " 12  ocorrencia_dia                  5167 non-null   object\n",
      " 13  ocorrencia_hora                 5166 non-null   object\n",
      " 14  investigacao_aeronave_liberada  5001 non-null   object\n",
      " 15  investigacao_status             4910 non-null   object\n",
      " 16  divulgacao_relatorio_numero     4783 non-null   object\n",
      " 17  divulgacao_relatorio_publicado  5167 non-null   object\n",
      " 18  divulgacao_dia_publicacao       1351 non-null   object\n",
      " 19  total_recomendacoes             5167 non-null   int64 \n",
      " 20  total_aeronaves_envolvidas      5167 non-null   int64 \n",
      " 21  ocorrencia_saida_pista          5167 non-null   object\n",
      "dtypes: int64(7), object(15)\n",
      "memory usage: 888.2+ KB\n"
     ]
    }
   ],
   "source": [
    "ocorrencias.info()"
   ]
  },
  {
   "cell_type": "code",
   "execution_count": 6,
   "id": "d742976c",
   "metadata": {},
   "outputs": [
    {
     "data": {
      "text/plain": [
       "codigo_ocorrencia                    0\n",
       "codigo_ocorrencia1                   0\n",
       "codigo_ocorrencia2                   0\n",
       "codigo_ocorrencia3                   0\n",
       "codigo_ocorrencia4                   0\n",
       "ocorrencia_classificacao             0\n",
       "ocorrencia_latitude                975\n",
       "ocorrencia_longitude               975\n",
       "ocorrencia_cidade                    0\n",
       "ocorrencia_uf                        0\n",
       "ocorrencia_pais                      0\n",
       "ocorrencia_aerodromo                 0\n",
       "ocorrencia_dia                       0\n",
       "ocorrencia_hora                      1\n",
       "investigacao_aeronave_liberada     166\n",
       "investigacao_status                257\n",
       "divulgacao_relatorio_numero        384\n",
       "divulgacao_relatorio_publicado       0\n",
       "divulgacao_dia_publicacao         3816\n",
       "total_recomendacoes                  0\n",
       "total_aeronaves_envolvidas           0\n",
       "ocorrencia_saida_pista               0\n",
       "dtype: int64"
      ]
     },
     "execution_count": 6,
     "metadata": {},
     "output_type": "execute_result"
    }
   ],
   "source": [
    "ocorrencias.isnull().sum()"
   ]
  },
  {
   "cell_type": "code",
   "execution_count": 7,
   "id": "53372fa3",
   "metadata": {
    "scrolled": true
   },
   "outputs": [
    {
     "data": {
      "text/plain": [
       "SIM    3357\n",
       "***    1612\n",
       "NÃO      32\n",
       "Name: investigacao_aeronave_liberada, dtype: int64"
      ]
     },
     "execution_count": 7,
     "metadata": {},
     "output_type": "execute_result"
    }
   ],
   "source": [
    "ocorrencias.investigacao_aeronave_liberada.value_counts()"
   ]
  },
  {
   "cell_type": "code",
   "execution_count": 8,
   "id": "d52dbf2d",
   "metadata": {
    "scrolled": true
   },
   "outputs": [
    {
     "data": {
      "text/plain": [
       "FINALIZADA    4489\n",
       "ATIVA          421\n",
       "Name: investigacao_status, dtype: int64"
      ]
     },
     "execution_count": 8,
     "metadata": {},
     "output_type": "execute_result"
    }
   ],
   "source": [
    "ocorrencias.investigacao_status.value_counts()"
   ]
  },
  {
   "cell_type": "code",
   "execution_count": 9,
   "id": "29bf3be6",
   "metadata": {},
   "outputs": [
    {
     "data": {
      "text/plain": [
       "***                   2907\n",
       "A DEFINIR               51\n",
       "ENCERRADA NO RAI        26\n",
       "**                       7\n",
       "A-128/CENIPA/2013        2\n",
       "                      ... \n",
       "IG-022/CENIPA/2015       1\n",
       "A-174/CENIPA/2015        1\n",
       "A-020/CENIPA/2015        1\n",
       "A-021/CENIPA/2015        1\n",
       "A-144/CENIPA/2021        1\n",
       "Name: divulgacao_relatorio_numero, Length: 1721, dtype: int64"
      ]
     },
     "execution_count": 9,
     "metadata": {},
     "output_type": "execute_result"
    }
   ],
   "source": [
    "ocorrencias.divulgacao_relatorio_numero.value_counts()"
   ]
  },
  {
   "cell_type": "code",
   "execution_count": 10,
   "id": "8b7051a9",
   "metadata": {},
   "outputs": [
    {
     "data": {
      "text/plain": [
       "5167"
      ]
     },
     "execution_count": 10,
     "metadata": {},
     "output_type": "execute_result"
    }
   ],
   "source": [
    "ocorrencias.codigo_ocorrencia.nunique()"
   ]
  },
  {
   "cell_type": "code",
   "execution_count": 11,
   "id": "6149d406",
   "metadata": {
    "scrolled": false
   },
   "outputs": [
    {
     "data": {
      "text/html": [
       "<div>\n",
       "<style scoped>\n",
       "    .dataframe tbody tr th:only-of-type {\n",
       "        vertical-align: middle;\n",
       "    }\n",
       "\n",
       "    .dataframe tbody tr th {\n",
       "        vertical-align: top;\n",
       "    }\n",
       "\n",
       "    .dataframe thead th {\n",
       "        text-align: right;\n",
       "    }\n",
       "</style>\n",
       "<table border=\"1\" class=\"dataframe\">\n",
       "  <thead>\n",
       "    <tr style=\"text-align: right;\">\n",
       "      <th></th>\n",
       "      <th>codigo_ocorrencia</th>\n",
       "      <th>codigo_ocorrencia1</th>\n",
       "      <th>codigo_ocorrencia2</th>\n",
       "      <th>codigo_ocorrencia3</th>\n",
       "      <th>codigo_ocorrencia4</th>\n",
       "      <th>total_recomendacoes</th>\n",
       "      <th>total_aeronaves_envolvidas</th>\n",
       "    </tr>\n",
       "  </thead>\n",
       "  <tbody>\n",
       "    <tr>\n",
       "      <th>count</th>\n",
       "      <td>5167.000000</td>\n",
       "      <td>5167.000000</td>\n",
       "      <td>5167.000000</td>\n",
       "      <td>5167.000000</td>\n",
       "      <td>5167.000000</td>\n",
       "      <td>5167.000000</td>\n",
       "      <td>5167.000000</td>\n",
       "    </tr>\n",
       "    <tr>\n",
       "      <th>mean</th>\n",
       "      <td>64008.273660</td>\n",
       "      <td>64008.273660</td>\n",
       "      <td>64008.273660</td>\n",
       "      <td>64008.273660</td>\n",
       "      <td>64008.273660</td>\n",
       "      <td>0.231662</td>\n",
       "      <td>1.013160</td>\n",
       "    </tr>\n",
       "    <tr>\n",
       "      <th>std</th>\n",
       "      <td>13765.727151</td>\n",
       "      <td>13765.727151</td>\n",
       "      <td>13765.727151</td>\n",
       "      <td>13765.727151</td>\n",
       "      <td>13765.727151</td>\n",
       "      <td>0.842137</td>\n",
       "      <td>0.118959</td>\n",
       "    </tr>\n",
       "    <tr>\n",
       "      <th>min</th>\n",
       "      <td>45331.000000</td>\n",
       "      <td>45331.000000</td>\n",
       "      <td>45331.000000</td>\n",
       "      <td>45331.000000</td>\n",
       "      <td>45331.000000</td>\n",
       "      <td>0.000000</td>\n",
       "      <td>1.000000</td>\n",
       "    </tr>\n",
       "    <tr>\n",
       "      <th>25%</th>\n",
       "      <td>50978.500000</td>\n",
       "      <td>50978.500000</td>\n",
       "      <td>50978.500000</td>\n",
       "      <td>50978.500000</td>\n",
       "      <td>50978.500000</td>\n",
       "      <td>0.000000</td>\n",
       "      <td>1.000000</td>\n",
       "    </tr>\n",
       "    <tr>\n",
       "      <th>50%</th>\n",
       "      <td>65530.000000</td>\n",
       "      <td>65530.000000</td>\n",
       "      <td>65530.000000</td>\n",
       "      <td>65530.000000</td>\n",
       "      <td>65530.000000</td>\n",
       "      <td>0.000000</td>\n",
       "      <td>1.000000</td>\n",
       "    </tr>\n",
       "    <tr>\n",
       "      <th>75%</th>\n",
       "      <td>78832.500000</td>\n",
       "      <td>78832.500000</td>\n",
       "      <td>78832.500000</td>\n",
       "      <td>78832.500000</td>\n",
       "      <td>78832.500000</td>\n",
       "      <td>0.000000</td>\n",
       "      <td>1.000000</td>\n",
       "    </tr>\n",
       "    <tr>\n",
       "      <th>max</th>\n",
       "      <td>80468.000000</td>\n",
       "      <td>80468.000000</td>\n",
       "      <td>80468.000000</td>\n",
       "      <td>80468.000000</td>\n",
       "      <td>80468.000000</td>\n",
       "      <td>13.000000</td>\n",
       "      <td>3.000000</td>\n",
       "    </tr>\n",
       "  </tbody>\n",
       "</table>\n",
       "</div>"
      ],
      "text/plain": [
       "       codigo_ocorrencia  codigo_ocorrencia1  codigo_ocorrencia2  \\\n",
       "count        5167.000000         5167.000000         5167.000000   \n",
       "mean        64008.273660        64008.273660        64008.273660   \n",
       "std         13765.727151        13765.727151        13765.727151   \n",
       "min         45331.000000        45331.000000        45331.000000   \n",
       "25%         50978.500000        50978.500000        50978.500000   \n",
       "50%         65530.000000        65530.000000        65530.000000   \n",
       "75%         78832.500000        78832.500000        78832.500000   \n",
       "max         80468.000000        80468.000000        80468.000000   \n",
       "\n",
       "       codigo_ocorrencia3  codigo_ocorrencia4  total_recomendacoes  \\\n",
       "count         5167.000000         5167.000000          5167.000000   \n",
       "mean         64008.273660        64008.273660             0.231662   \n",
       "std          13765.727151        13765.727151             0.842137   \n",
       "min          45331.000000        45331.000000             0.000000   \n",
       "25%          50978.500000        50978.500000             0.000000   \n",
       "50%          65530.000000        65530.000000             0.000000   \n",
       "75%          78832.500000        78832.500000             0.000000   \n",
       "max          80468.000000        80468.000000            13.000000   \n",
       "\n",
       "       total_aeronaves_envolvidas  \n",
       "count                 5167.000000  \n",
       "mean                     1.013160  \n",
       "std                      0.118959  \n",
       "min                      1.000000  \n",
       "25%                      1.000000  \n",
       "50%                      1.000000  \n",
       "75%                      1.000000  \n",
       "max                      3.000000  "
      ]
     },
     "execution_count": 11,
     "metadata": {},
     "output_type": "execute_result"
    }
   ],
   "source": [
    "ocorrencias.describe()"
   ]
  },
  {
   "cell_type": "code",
   "execution_count": 12,
   "id": "c5392fec",
   "metadata": {
    "scrolled": true
   },
   "outputs": [
    {
     "data": {
      "text/plain": [
       "NÃO    3818\n",
       "SIM    1349\n",
       "Name: divulgacao_relatorio_publicado, dtype: int64"
      ]
     },
     "execution_count": 12,
     "metadata": {},
     "output_type": "execute_result"
    }
   ],
   "source": [
    "ocorrencias.divulgacao_relatorio_publicado.value_counts()"
   ]
  },
  {
   "cell_type": "code",
   "execution_count": 13,
   "id": "f43ef763",
   "metadata": {},
   "outputs": [
    {
     "data": {
      "text/plain": [
       "1351"
      ]
     },
     "execution_count": 13,
     "metadata": {},
     "output_type": "execute_result"
    }
   ],
   "source": [
    "ocorrencias.divulgacao_dia_publicacao.notnull().sum()"
   ]
  },
  {
   "cell_type": "code",
   "execution_count": 14,
   "id": "f81ffa87",
   "metadata": {
    "scrolled": true
   },
   "outputs": [
    {
     "data": {
      "text/plain": [
       "0"
      ]
     },
     "execution_count": 14,
     "metadata": {},
     "output_type": "execute_result"
    }
   ],
   "source": [
    "ocorrencias[ocorrencias['divulgacao_relatorio_publicado']== 'SIM']['divulgacao_dia_publicacao'].isnull().sum()"
   ]
  },
  {
   "cell_type": "code",
   "execution_count": 15,
   "id": "6c7d4178",
   "metadata": {},
   "outputs": [
    {
     "data": {
      "text/plain": [
       "(5235, 23)"
      ]
     },
     "execution_count": 15,
     "metadata": {},
     "output_type": "execute_result"
    }
   ],
   "source": [
    "aeronave.shape"
   ]
  },
  {
   "cell_type": "code",
   "execution_count": 16,
   "id": "069bea96",
   "metadata": {
    "scrolled": true
   },
   "outputs": [
    {
     "data": {
      "text/html": [
       "<div>\n",
       "<style scoped>\n",
       "    .dataframe tbody tr th:only-of-type {\n",
       "        vertical-align: middle;\n",
       "    }\n",
       "\n",
       "    .dataframe tbody tr th {\n",
       "        vertical-align: top;\n",
       "    }\n",
       "\n",
       "    .dataframe thead th {\n",
       "        text-align: right;\n",
       "    }\n",
       "</style>\n",
       "<table border=\"1\" class=\"dataframe\">\n",
       "  <thead>\n",
       "    <tr style=\"text-align: right;\">\n",
       "      <th></th>\n",
       "      <th>codigo_ocorrencia2</th>\n",
       "      <th>aeronave_matricula</th>\n",
       "      <th>aeronave_operador_categoria</th>\n",
       "      <th>aeronave_tipo_veiculo</th>\n",
       "      <th>aeronave_fabricante</th>\n",
       "      <th>aeronave_modelo</th>\n",
       "      <th>aeronave_tipo_icao</th>\n",
       "      <th>aeronave_motor_tipo</th>\n",
       "      <th>aeronave_motor_quantidade</th>\n",
       "      <th>aeronave_pmd</th>\n",
       "      <th>aeronave_pmd_categoria</th>\n",
       "      <th>aeronave_assentos</th>\n",
       "      <th>aeronave_ano_fabricacao</th>\n",
       "      <th>aeronave_pais_fabricante</th>\n",
       "      <th>aeronave_pais_registro</th>\n",
       "      <th>aeronave_registro_categoria</th>\n",
       "      <th>aeronave_registro_segmento</th>\n",
       "      <th>aeronave_voo_origem</th>\n",
       "      <th>aeronave_voo_destino</th>\n",
       "      <th>aeronave_fase_operacao</th>\n",
       "      <th>aeronave_tipo_operacao</th>\n",
       "      <th>aeronave_nivel_dano</th>\n",
       "      <th>aeronave_fatalidades_total</th>\n",
       "    </tr>\n",
       "  </thead>\n",
       "  <tbody>\n",
       "    <tr>\n",
       "      <th>0</th>\n",
       "      <td>45331</td>\n",
       "      <td>PRTKB</td>\n",
       "      <td>***</td>\n",
       "      <td>AVIÃO</td>\n",
       "      <td>AEROSPATIALE AND ALENIA</td>\n",
       "      <td>ATR-42-500</td>\n",
       "      <td>AT45</td>\n",
       "      <td>TURBOÉLICE</td>\n",
       "      <td>BIMOTOR</td>\n",
       "      <td>18600</td>\n",
       "      <td>18600</td>\n",
       "      <td>50.0</td>\n",
       "      <td>2001.0</td>\n",
       "      <td>BRASIL</td>\n",
       "      <td>BRASIL</td>\n",
       "      <td>AVIÃO</td>\n",
       "      <td>REGULAR</td>\n",
       "      <td>FORA DE AERODROMO</td>\n",
       "      <td>FORA DE AERODROMO</td>\n",
       "      <td>DESCIDA</td>\n",
       "      <td>REGULAR</td>\n",
       "      <td>NENHUM</td>\n",
       "      <td>0</td>\n",
       "    </tr>\n",
       "    <tr>\n",
       "      <th>1</th>\n",
       "      <td>45332</td>\n",
       "      <td>PTUDD</td>\n",
       "      <td>***</td>\n",
       "      <td>AVIÃO</td>\n",
       "      <td>NEIVA INDUSTRIA AERONAUTICA</td>\n",
       "      <td>EMB-201A</td>\n",
       "      <td>IPAN</td>\n",
       "      <td>PISTÃO</td>\n",
       "      <td>MONOMOTOR</td>\n",
       "      <td>1800</td>\n",
       "      <td>1800</td>\n",
       "      <td>1.0</td>\n",
       "      <td>1987.0</td>\n",
       "      <td>BRASIL</td>\n",
       "      <td>BRASIL</td>\n",
       "      <td>AVIÃO</td>\n",
       "      <td>ESPECIALIZADA</td>\n",
       "      <td>FORA DE AERODROMO</td>\n",
       "      <td>FORA DE AERODROMO</td>\n",
       "      <td>DECOLAGEM</td>\n",
       "      <td>AGRÍCOLA</td>\n",
       "      <td>SUBSTANCIAL</td>\n",
       "      <td>0</td>\n",
       "    </tr>\n",
       "    <tr>\n",
       "      <th>2</th>\n",
       "      <td>45333</td>\n",
       "      <td>PTGOO</td>\n",
       "      <td>***</td>\n",
       "      <td>AVIÃO</td>\n",
       "      <td>NEIVA INDUSTRIA AERONAUTICA</td>\n",
       "      <td>EMB-201</td>\n",
       "      <td>IPAN</td>\n",
       "      <td>PISTÃO</td>\n",
       "      <td>MONOMOTOR</td>\n",
       "      <td>1800</td>\n",
       "      <td>1800</td>\n",
       "      <td>1.0</td>\n",
       "      <td>1976.0</td>\n",
       "      <td>BRASIL</td>\n",
       "      <td>BRASIL</td>\n",
       "      <td>AVIÃO</td>\n",
       "      <td>ESPECIALIZADA</td>\n",
       "      <td>FORA DE AERODROMO</td>\n",
       "      <td>FORA DE AERODROMO</td>\n",
       "      <td>ESPECIALIZADA</td>\n",
       "      <td>AGRÍCOLA</td>\n",
       "      <td>SUBSTANCIAL</td>\n",
       "      <td>0</td>\n",
       "    </tr>\n",
       "    <tr>\n",
       "      <th>3</th>\n",
       "      <td>45334</td>\n",
       "      <td>PRMHX</td>\n",
       "      <td>REGULAR</td>\n",
       "      <td>AVIÃO</td>\n",
       "      <td>AIRBUS INDUSTRIE</td>\n",
       "      <td>A320-214</td>\n",
       "      <td>A320</td>\n",
       "      <td>JATO</td>\n",
       "      <td>BIMOTOR</td>\n",
       "      <td>77000</td>\n",
       "      <td>77000</td>\n",
       "      <td>184.0</td>\n",
       "      <td>2008.0</td>\n",
       "      <td>BRASIL</td>\n",
       "      <td>BRASIL</td>\n",
       "      <td>AVIÃO</td>\n",
       "      <td>REGULAR</td>\n",
       "      <td>FORA DE AERODROMO</td>\n",
       "      <td>FORA DE AERODROMO</td>\n",
       "      <td>CORRIDA APÓS POUSO</td>\n",
       "      <td>REGULAR</td>\n",
       "      <td>LEVE</td>\n",
       "      <td>0</td>\n",
       "    </tr>\n",
       "    <tr>\n",
       "      <th>4</th>\n",
       "      <td>45390</td>\n",
       "      <td>PTUEW</td>\n",
       "      <td>***</td>\n",
       "      <td>AVIÃO</td>\n",
       "      <td>NEIVA INDUSTRIA AERONAUTICA</td>\n",
       "      <td>EMB-201A</td>\n",
       "      <td>IPAN</td>\n",
       "      <td>PISTÃO</td>\n",
       "      <td>MONOMOTOR</td>\n",
       "      <td>1800</td>\n",
       "      <td>1800</td>\n",
       "      <td>1.0</td>\n",
       "      <td>1989.0</td>\n",
       "      <td>BRASIL</td>\n",
       "      <td>BRASIL</td>\n",
       "      <td>AVIÃO</td>\n",
       "      <td>AGRÍCOLA</td>\n",
       "      <td>FORA DE AERODROMO</td>\n",
       "      <td>FORA DE AERODROMO</td>\n",
       "      <td>ESPECIALIZADA</td>\n",
       "      <td>AGRÍCOLA</td>\n",
       "      <td>SUBSTANCIAL</td>\n",
       "      <td>0</td>\n",
       "    </tr>\n",
       "  </tbody>\n",
       "</table>\n",
       "</div>"
      ],
      "text/plain": [
       "   codigo_ocorrencia2 aeronave_matricula aeronave_operador_categoria  \\\n",
       "0               45331              PRTKB                         ***   \n",
       "1               45332              PTUDD                         ***   \n",
       "2               45333              PTGOO                         ***   \n",
       "3               45334              PRMHX                     REGULAR   \n",
       "4               45390              PTUEW                         ***   \n",
       "\n",
       "  aeronave_tipo_veiculo          aeronave_fabricante aeronave_modelo  \\\n",
       "0                 AVIÃO      AEROSPATIALE AND ALENIA      ATR-42-500   \n",
       "1                 AVIÃO  NEIVA INDUSTRIA AERONAUTICA        EMB-201A   \n",
       "2                 AVIÃO  NEIVA INDUSTRIA AERONAUTICA         EMB-201   \n",
       "3                 AVIÃO             AIRBUS INDUSTRIE        A320-214   \n",
       "4                 AVIÃO  NEIVA INDUSTRIA AERONAUTICA        EMB-201A   \n",
       "\n",
       "  aeronave_tipo_icao aeronave_motor_tipo aeronave_motor_quantidade  \\\n",
       "0               AT45          TURBOÉLICE                   BIMOTOR   \n",
       "1               IPAN              PISTÃO                 MONOMOTOR   \n",
       "2               IPAN              PISTÃO                 MONOMOTOR   \n",
       "3               A320                JATO                   BIMOTOR   \n",
       "4               IPAN              PISTÃO                 MONOMOTOR   \n",
       "\n",
       "   aeronave_pmd  aeronave_pmd_categoria  aeronave_assentos  \\\n",
       "0         18600                   18600               50.0   \n",
       "1          1800                    1800                1.0   \n",
       "2          1800                    1800                1.0   \n",
       "3         77000                   77000              184.0   \n",
       "4          1800                    1800                1.0   \n",
       "\n",
       "   aeronave_ano_fabricacao aeronave_pais_fabricante aeronave_pais_registro  \\\n",
       "0                   2001.0                   BRASIL                 BRASIL   \n",
       "1                   1987.0                   BRASIL                 BRASIL   \n",
       "2                   1976.0                   BRASIL                 BRASIL   \n",
       "3                   2008.0                   BRASIL                 BRASIL   \n",
       "4                   1989.0                   BRASIL                 BRASIL   \n",
       "\n",
       "  aeronave_registro_categoria aeronave_registro_segmento aeronave_voo_origem  \\\n",
       "0                       AVIÃO                    REGULAR   FORA DE AERODROMO   \n",
       "1                       AVIÃO              ESPECIALIZADA   FORA DE AERODROMO   \n",
       "2                       AVIÃO              ESPECIALIZADA   FORA DE AERODROMO   \n",
       "3                       AVIÃO                    REGULAR   FORA DE AERODROMO   \n",
       "4                       AVIÃO                   AGRÍCOLA   FORA DE AERODROMO   \n",
       "\n",
       "  aeronave_voo_destino aeronave_fase_operacao aeronave_tipo_operacao  \\\n",
       "0    FORA DE AERODROMO                DESCIDA                REGULAR   \n",
       "1    FORA DE AERODROMO              DECOLAGEM               AGRÍCOLA   \n",
       "2    FORA DE AERODROMO          ESPECIALIZADA               AGRÍCOLA   \n",
       "3    FORA DE AERODROMO     CORRIDA APÓS POUSO                REGULAR   \n",
       "4    FORA DE AERODROMO          ESPECIALIZADA               AGRÍCOLA   \n",
       "\n",
       "  aeronave_nivel_dano  aeronave_fatalidades_total  \n",
       "0              NENHUM                           0  \n",
       "1         SUBSTANCIAL                           0  \n",
       "2         SUBSTANCIAL                           0  \n",
       "3                LEVE                           0  \n",
       "4         SUBSTANCIAL                           0  "
      ]
     },
     "execution_count": 16,
     "metadata": {},
     "output_type": "execute_result"
    }
   ],
   "source": [
    "aeronave.head()"
   ]
  },
  {
   "cell_type": "code",
   "execution_count": 17,
   "id": "7440aaa6",
   "metadata": {
    "scrolled": true
   },
   "outputs": [
    {
     "data": {
      "text/plain": [
       "NENHUM         1879\n",
       "LEVE           1510\n",
       "SUBSTANCIAL    1499\n",
       "DESTRUÍDA       300\n",
       "***              47\n",
       "Name: aeronave_nivel_dano, dtype: int64"
      ]
     },
     "execution_count": 17,
     "metadata": {},
     "output_type": "execute_result"
    }
   ],
   "source": [
    "aeronave.aeronave_nivel_dano.value_counts()"
   ]
  },
  {
   "cell_type": "code",
   "execution_count": 18,
   "id": "6d3a4efd",
   "metadata": {},
   "outputs": [
    {
     "data": {
      "text/plain": [
       "array(['TURBOÉLICE', 'PISTÃO', 'JATO', 'TURBOEIXO', 'SEM TRAÇÃO', '***',\n",
       "       nan], dtype=object)"
      ]
     },
     "execution_count": 18,
     "metadata": {},
     "output_type": "execute_result"
    }
   ],
   "source": [
    "aeronave.aeronave_motor_tipo.unique()"
   ]
  },
  {
   "cell_type": "code",
   "execution_count": 19,
   "id": "72e5dda4",
   "metadata": {
    "scrolled": true
   },
   "outputs": [
    {
     "data": {
      "text/html": [
       "<div>\n",
       "<style scoped>\n",
       "    .dataframe tbody tr th:only-of-type {\n",
       "        vertical-align: middle;\n",
       "    }\n",
       "\n",
       "    .dataframe tbody tr th {\n",
       "        vertical-align: top;\n",
       "    }\n",
       "\n",
       "    .dataframe thead th {\n",
       "        text-align: right;\n",
       "    }\n",
       "</style>\n",
       "<table border=\"1\" class=\"dataframe\">\n",
       "  <thead>\n",
       "    <tr style=\"text-align: right;\">\n",
       "      <th></th>\n",
       "      <th>codigo_ocorrencia1</th>\n",
       "      <th>ocorrencia_tipo</th>\n",
       "      <th>ocorrencia_tipo_categoria</th>\n",
       "      <th>taxonomia_tipo_icao</th>\n",
       "    </tr>\n",
       "  </thead>\n",
       "  <tbody>\n",
       "    <tr>\n",
       "      <th>0</th>\n",
       "      <td>45331</td>\n",
       "      <td>COM PESSOAL EM VOO</td>\n",
       "      <td>OUTROS | COM PESSOAL EM VOO</td>\n",
       "      <td>OTHR</td>\n",
       "    </tr>\n",
       "    <tr>\n",
       "      <th>1</th>\n",
       "      <td>45332</td>\n",
       "      <td>PERDA DE CONTROLE NO SOLO</td>\n",
       "      <td>PERDA DE CONTROLE NO SOLO</td>\n",
       "      <td>LOC-G</td>\n",
       "    </tr>\n",
       "    <tr>\n",
       "      <th>2</th>\n",
       "      <td>45333</td>\n",
       "      <td>FALHA DO MOTOR EM VOO</td>\n",
       "      <td>FALHA OU MAU FUNCIONAMENTO DO MOTOR | FALHA DO...</td>\n",
       "      <td>SCF-PP</td>\n",
       "    </tr>\n",
       "    <tr>\n",
       "      <th>3</th>\n",
       "      <td>45334</td>\n",
       "      <td>ESTOURO DE PNEU</td>\n",
       "      <td>FALHA OU MAU FUNCIONAMENTO DE SISTEMA / COMPON...</td>\n",
       "      <td>SCF-NP</td>\n",
       "    </tr>\n",
       "    <tr>\n",
       "      <th>4</th>\n",
       "      <td>45390</td>\n",
       "      <td>OPERAÇÃO A BAIXA ALTITUDE</td>\n",
       "      <td>OPERAÇÃO A BAIXA ALTITUDE</td>\n",
       "      <td>LALT</td>\n",
       "    </tr>\n",
       "  </tbody>\n",
       "</table>\n",
       "</div>"
      ],
      "text/plain": [
       "   codigo_ocorrencia1            ocorrencia_tipo  \\\n",
       "0               45331         COM PESSOAL EM VOO   \n",
       "1               45332  PERDA DE CONTROLE NO SOLO   \n",
       "2               45333      FALHA DO MOTOR EM VOO   \n",
       "3               45334            ESTOURO DE PNEU   \n",
       "4               45390  OPERAÇÃO A BAIXA ALTITUDE   \n",
       "\n",
       "                           ocorrencia_tipo_categoria taxonomia_tipo_icao  \n",
       "0                        OUTROS | COM PESSOAL EM VOO                OTHR  \n",
       "1                          PERDA DE CONTROLE NO SOLO               LOC-G  \n",
       "2  FALHA OU MAU FUNCIONAMENTO DO MOTOR | FALHA DO...              SCF-PP  \n",
       "3  FALHA OU MAU FUNCIONAMENTO DE SISTEMA / COMPON...              SCF-NP  \n",
       "4                          OPERAÇÃO A BAIXA ALTITUDE                LALT  "
      ]
     },
     "execution_count": 19,
     "metadata": {},
     "output_type": "execute_result"
    }
   ],
   "source": [
    "ocorrencia_tipo.head()"
   ]
  },
  {
   "cell_type": "markdown",
   "id": "d55753bc",
   "metadata": {},
   "source": [
    "# Criação de novos campos"
   ]
  },
  {
   "cell_type": "code",
   "execution_count": 20,
   "id": "c4a66844",
   "metadata": {},
   "outputs": [],
   "source": [
    "ocorrencias['ocorrencia_dia'] = pd.to_datetime(ocorrencias['ocorrencia_dia'],format='%d/%m/%Y')\n",
    "ocorrencias['meses'] = ocorrencias['ocorrencia_dia'].dt.month\n",
    "ocorrencias['ano'] = ocorrencias['ocorrencia_dia'].dt.year"
   ]
  },
  {
   "cell_type": "markdown",
   "id": "2aed1b9e",
   "metadata": {},
   "source": [
    "# Hipóteses"
   ]
  },
  {
   "cell_type": "markdown",
   "id": "29c3365e",
   "metadata": {},
   "source": [
    "## H1: Os Incidentes representam mais de 50% das ocorrências e os Acidentes representam menos de 40% das Ocorrências.\n"
   ]
  },
  {
   "cell_type": "code",
   "execution_count": 21,
   "id": "e0fc7b7a",
   "metadata": {},
   "outputs": [
    {
     "data": {
      "image/png": "[encoded data removed]",
      "text/plain": [
       "<Figure size 576x576 with 1 Axes>"
      ]
     },
     "metadata": {},
     "output_type": "display_data"
    }
   ],
   "source": [
    "ax1 = ocorrencias.groupby('ocorrencia_classificacao').size()\n",
    "\n",
    "ax1.plot(kind='pie',\n",
    "          title='FREQUÊNCIA POR CLASSIFICAÇÃO',\n",
    "          figsize=[8,8],\n",
    "          autopct=lambda p: '{:.2f}%({:.0f})'.format(p,(p/100)*ax1.sum()))\n",
    "\n",
    "plt.ylabel(\"\")\n",
    "plt.savefig(\"H1.jpg\",dpi=300)\n",
    "plt.show()\n"
   ]
  },
  {
   "cell_type": "markdown",
   "id": "d9b54e07",
   "metadata": {},
   "source": [
    "# ---------------------------------------------------------------------------------------------------------------"
   ]
  },
  {
   "cell_type": "markdown",
   "id": "a2b00cf0",
   "metadata": {},
   "source": [
    "## H2: Em todos as classificações de ocorrências os relátórios levam em média até 365 dias para serem publicados a partir da data da ocorrência."
   ]
  },
  {
   "cell_type": "code",
   "execution_count": 22,
   "id": "f54f2207",
   "metadata": {},
   "outputs": [],
   "source": [
    "\n",
    "relatorios_divulgados = ocorrencias[ocorrencias['divulgacao_relatorio_publicado']== 'SIM'].copy()\n",
    "\n",
    "relatorios_divulgados['ocorrencia_dia'] = pd.to_datetime(relatorios_divulgados['ocorrencia_dia'],format='%d/%m/%Y')\n",
    "relatorios_divulgados['divulgacao_dia_publicacao'] = pd.to_datetime(relatorios_divulgados['divulgacao_dia_publicacao'])\n",
    "\n",
    "relatorios_divulgados['diferenca_dias'] = (relatorios_divulgados['divulgacao_dia_publicacao'] - relatorios_divulgados['ocorrencia_dia']).dt.days\n"
   ]
  },
  {
   "cell_type": "code",
   "execution_count": 23,
   "id": "a98db37e",
   "metadata": {},
   "outputs": [
    {
     "name": "stdout",
     "output_type": "stream",
     "text": [
      "  ocorrencia_classificacao  diferenca_dias\n",
      "0                 ACIDENTE             739\n",
      "1                INCIDENTE             703\n",
      "2          INCIDENTE GRAVE             736\n"
     ]
    },
    {
     "data": {
      "image/png": "[encoded data removed]",
      "text/plain": [
       "<Figure size 504x360 with 1 Axes>"
      ]
     },
     "metadata": {
      "needs_background": "light"
     },
     "output_type": "display_data"
    }
   ],
   "source": [
    "ax1 = relatorios_divulgados[['diferenca_dias', 'ocorrencia_classificacao']].groupby('ocorrencia_classificacao').mean().reset_index()\n",
    "ax1['diferenca_dias'] = ax1['diferenca_dias'].apply(int)\n",
    "print(ax1)\n",
    "\n",
    "plt.figure(figsize=(7, 5))\n",
    "ax = plt.bar(ax1['ocorrencia_classificacao'], ax1['diferenca_dias'])\n",
    "plt.bar_label(ax)\n",
    "plt.title('MÉDIA DE DIAS PARA PUBLICAÇÃO')\n",
    "plt.ylabel('Dias')\n",
    "plt.xlabel('Classificação')\n",
    "\n",
    "plt.savefig(\"H2.jpg\",dpi=300)\n",
    "plt.show()"
   ]
  },
  {
   "cell_type": "markdown",
   "id": "16d28468",
   "metadata": {},
   "source": [
    "# ---------------------------------------------------------------------------------------------------------------"
   ]
  },
  {
   "cell_type": "markdown",
   "id": "876db22f",
   "metadata": {},
   "source": [
    "## H3: A ocorrência de Acidentes cresce ao longo dos anos."
   ]
  },
  {
   "cell_type": "code",
   "execution_count": 24,
   "id": "e8c13c55",
   "metadata": {},
   "outputs": [],
   "source": [
    "acidentes = ocorrencias[(ocorrencias['ocorrencia_classificacao'] == 'ACIDENTE')].copy()"
   ]
  },
  {
   "cell_type": "code",
   "execution_count": 25,
   "id": "16ca4668",
   "metadata": {
    "scrolled": true
   },
   "outputs": [
    {
     "name": "stderr",
     "output_type": "stream",
     "text": [
      "C:\\Users\\kleme\\anaconda3\\envs\\olist-amb\\lib\\site-packages\\seaborn\\_decorators.py:36: FutureWarning: Pass the following variables as keyword args: x, y. From version 0.12, the only valid positional argument will be `data`, and passing other arguments without an explicit keyword will result in an error or misinterpretation.\n",
      "  warnings.warn(\n"
     ]
    },
    {
     "data": {
      "image/png": "[encoded data removed]",
      "text/plain": [
       "<Figure size 1080x216 with 1 Axes>"
      ]
     },
     "metadata": {
      "needs_background": "light"
     },
     "output_type": "display_data"
    }
   ],
   "source": [
    "ax1 = acidentes['ano'].value_counts().rename_axis('ano').reset_index(name='contagem').copy()\n",
    "ax1 = ax1.sort_values('ano')\n",
    "\n",
    "plt.figure(figsize=(15, 3))\n",
    "sns.lineplot(ax1['ano'], ax1['contagem'])\n",
    "plt.xticks(ax1['ano'])\n",
    "plt.ylabel('Ocorrências')\n",
    "plt.xlabel('Ano')\n",
    "\n",
    "plt.savefig(\"H3.jpg\",dpi=300)\n",
    "plt.show()"
   ]
  },
  {
   "cell_type": "markdown",
   "id": "5935c271",
   "metadata": {},
   "source": [
    "# ---------------------------------------------------------------------------------------------------------------"
   ]
  },
  {
   "cell_type": "markdown",
   "id": "40b18eb3",
   "metadata": {},
   "source": [
    "## H4: A maior quantidade de acidentes acontece durante o período da noite."
   ]
  },
  {
   "cell_type": "code",
   "execution_count": 26,
   "id": "3cb5a56a",
   "metadata": {},
   "outputs": [],
   "source": [
    "ax1 = acidentes\n",
    "ax1['hora'] = acidentes['ocorrencia_hora'].astype(str).str[:2]\n",
    "ax1['hora'] = pd.to_numeric(ax1['hora'])\n",
    "\n",
    "periodo = []\n",
    "\n",
    "for h in ax1['hora']:\n",
    "    if h < 6:    periodo.append('MADRUGADA')\n",
    "    elif h < 12:   periodo.append('MANHÃ')\n",
    "    elif h < 18:  periodo.append('TARDE')\n",
    "    elif h <= 23:  periodo.append('NOITE')\n",
    "    else:           periodo.append('SEM PERÍODO')\n",
    "            \n",
    "ax1['periodo'] = periodo"
   ]
  },
  {
   "cell_type": "code",
   "execution_count": 27,
   "id": "0b13a71d",
   "metadata": {},
   "outputs": [
    {
     "data": {
      "image/png": "[encoded data removed]",
      "text/plain": [
       "<Figure size 576x576 with 1 Axes>"
      ]
     },
     "metadata": {},
     "output_type": "display_data"
    }
   ],
   "source": [
    "clas = ax1.groupby('periodo').size()\n",
    "\n",
    "clas.plot(kind='pie',\n",
    "          title='ACIDENTES POR PERÍODO DO DIA',\n",
    "          figsize=[8,8],\n",
    "          autopct=lambda p: '{:.2f}%({:.0f})'.format(p,(p/100)*clas.sum()))\n",
    "\n",
    "plt.ylabel(\"\")\n",
    "\n",
    "plt.savefig(\"H4.jpg\",dpi=300)\n",
    "plt.show()"
   ]
  },
  {
   "cell_type": "markdown",
   "id": "c29d0337",
   "metadata": {},
   "source": [
    "# ---------------------------------------------------------------------------------------------------------------"
   ]
  },
  {
   "cell_type": "markdown",
   "id": "162095bf",
   "metadata": {},
   "source": [
    "## H5: Os cincos estados que mais tiveram ocorrências registradas também são os cinco estados que mais registraram acidentes."
   ]
  },
  {
   "cell_type": "code",
   "execution_count": 28,
   "id": "7f2b53b3",
   "metadata": {},
   "outputs": [],
   "source": [
    "#Gráfico 1\n",
    "ax1 = ocorrencias['ocorrencia_uf'].value_counts().head(5).rename_axis('estado').reset_index(name='contagem')\n",
    "ax1 = ax1.sort_values('contagem')\n",
    "\n",
    "#Gráfico 2\n",
    "ax2 = acidentes\n",
    "ax2 = ax2['ocorrencia_uf'].value_counts().head(5).rename_axis('estado').reset_index(name='contagem')\n",
    "ax2 = ax2.sort_values('contagem')"
   ]
  },
  {
   "cell_type": "code",
   "execution_count": 29,
   "id": "7290fa4b",
   "metadata": {},
   "outputs": [
    {
     "data": {
      "image/png": "[encoded data removed]",
      "text/plain": [
       "<Figure size 1080x360 with 2 Axes>"
      ]
     },
     "metadata": {
      "needs_background": "light"
     },
     "output_type": "display_data"
    }
   ],
   "source": [
    "plt.figure(figsize=(15,5))\n",
    "\n",
    "plt.subplot(1,2,1)\n",
    "\n",
    "ae = plt.barh(ax1['estado'], ax1['contagem'])\n",
    "plt.bar_label(ae)\n",
    "plt.margins(0.1, 0.05)\n",
    "plt.title('TOP 5 ESTADOS COM MAIS OCORRÊNCIAS')\n",
    "plt.ylabel('Estado')\n",
    "plt.xlabel('Ocorrências')\n",
    "\n",
    "plt.subplot(1,2,2)\n",
    "ae = plt.barh(ax2['estado'], ax2['contagem'])\n",
    "plt.bar_label(ae)\n",
    "plt.margins(0.1, 0.05)\n",
    "plt.title('TOP 5 ESTADOS COM MAIS ACIDENTES')\n",
    "plt.ylabel('Estado')\n",
    "plt.xlabel('Ocorrências')\n",
    "\n",
    "plt.savefig(\"H5.jpg\",dpi=300)\n",
    "plt.show()"
   ]
  },
  {
   "cell_type": "markdown",
   "id": "c151acfa",
   "metadata": {},
   "source": [
    "# --------------------------------------------------------------------------------------------------------------"
   ]
  },
  {
   "cell_type": "markdown",
   "id": "f537aa98",
   "metadata": {},
   "source": [
    "## H6: O tipo de aeronave Avião é responsável por mais de 50% das ocorrências. "
   ]
  },
  {
   "cell_type": "code",
   "execution_count": 30,
   "id": "7f03e855",
   "metadata": {},
   "outputs": [],
   "source": [
    "oc_aeronave = pd.merge(ocorrencias, aeronave, on=[\"codigo_ocorrencia2\",\"codigo_ocorrencia2\"], how=\"left\")"
   ]
  },
  {
   "cell_type": "code",
   "execution_count": 31,
   "id": "b286974a",
   "metadata": {},
   "outputs": [],
   "source": [
    "tipo_aeronave = oc_aeronave['aeronave_tipo_veiculo'].value_counts().rename_axis('tipo').reset_index(name='contagem')\n",
    "\n",
    "freq = np.array(round(oc_aeronave['aeronave_tipo_veiculo'].value_counts()/ oc_aeronave['aeronave_tipo_veiculo'].value_counts().sum(), 4) * 100)\n",
    "\n",
    "tipo_aeronave['Porcentagem'] = freq"
   ]
  },
  {
   "cell_type": "code",
   "execution_count": 32,
   "id": "2aeb2279",
   "metadata": {},
   "outputs": [
    {
     "name": "stdout",
     "output_type": "stream",
     "text": [
      "          tipo  contagem  Porcentagem\n",
      "0        AVIÃO      4188        80.00\n",
      "1  HELICÓPTERO       550        10.51\n",
      "2    ULTRALEVE       304         5.81\n",
      "3          ***       155         2.96\n",
      "4     PLANADOR        17         0.32\n",
      "5      ANFÍBIO        12         0.23\n",
      "6        TRIKE         5         0.10\n",
      "7    DIRIGÍVEL         2         0.04\n",
      "8        BALÃO         1         0.02\n",
      "9   HIDROAVIÃO         1         0.02\n"
     ]
    },
    {
     "data": {
      "image/png": "[encoded data removed]",
      "text/plain": [
       "<Figure size 936x288 with 1 Axes>"
      ]
     },
     "metadata": {
      "needs_background": "light"
     },
     "output_type": "display_data"
    }
   ],
   "source": [
    "print(tipo_aeronave)\n",
    "\n",
    "plt.figure(figsize=(13, 4))\n",
    "\n",
    "ta = plt.bar(tipo_aeronave['tipo'], tipo_aeronave['contagem'])\n",
    "plt.bar_label(ta)\n",
    "plt.title('ACIDENTES POR AERONAVES')\n",
    "plt.xticks(tipo_aeronave['tipo'])\n",
    "plt.ylabel('Ocorrências')\n",
    "plt.xlabel('Tipo de Aeronave')\n",
    "\n",
    "plt.savefig(\"H6.jpg\",dpi=300)\n",
    "plt.show()"
   ]
  },
  {
   "cell_type": "markdown",
   "id": "a4f9653d",
   "metadata": {},
   "source": [
    "# ---------------------------------------------------------------------------------------------------------------"
   ]
  },
  {
   "cell_type": "markdown",
   "id": "100de360",
   "metadata": {},
   "source": [
    "## H7: Nos registros de acidentes a maior quantidade de nível de dano registrado estão nas categorias Substancial e Destruída. "
   ]
  },
  {
   "cell_type": "code",
   "execution_count": 33,
   "id": "c6c7523b",
   "metadata": {},
   "outputs": [],
   "source": [
    "acidentes_aeronave = oc_aeronave[(oc_aeronave['ocorrencia_classificacao'] == 'ACIDENTE')].copy()"
   ]
  },
  {
   "cell_type": "code",
   "execution_count": 34,
   "id": "4c08164c",
   "metadata": {
    "scrolled": true
   },
   "outputs": [
    {
     "data": {
      "image/png": "[encoded data removed]",
      "text/plain": [
       "<Figure size 1080x288 with 1 Axes>"
      ]
     },
     "metadata": {
      "needs_background": "light"
     },
     "output_type": "display_data"
    }
   ],
   "source": [
    "ax1 = acidentes_aeronave['aeronave_nivel_dano'].value_counts().rename_axis('categoria').reset_index(name='contagem')\n",
    "\n",
    "plt.figure(figsize=(15, 4))\n",
    "\n",
    "ta = plt.bar(ax1['categoria'], ax1['contagem'])\n",
    "plt.bar_label(ta)\n",
    "plt.xticks(ax1['categoria'])\n",
    "plt.title('ACIDENTES POR NÍVEL DE DANO')\n",
    "plt.ylabel('Ocorrências')\n",
    "plt.xlabel('Nível de Dano')\n",
    "\n",
    "plt.savefig(\"H7.jpg\",dpi=300)\n",
    "plt.show()"
   ]
  },
  {
   "cell_type": "markdown",
   "id": "60dbb053",
   "metadata": {},
   "source": [
    "# ---------------------------------------------------------------------------------------------------------------"
   ]
  },
  {
   "cell_type": "markdown",
   "id": "06abcf17",
   "metadata": {},
   "source": [
    "## H8: O motor de Pistão é o que apresenta maior ocorrências de falha em voo."
   ]
  },
  {
   "cell_type": "code",
   "execution_count": 35,
   "id": "e8ef1223",
   "metadata": {},
   "outputs": [
    {
     "data": {
      "text/html": [
       "<div>\n",
       "<style scoped>\n",
       "    .dataframe tbody tr th:only-of-type {\n",
       "        vertical-align: middle;\n",
       "    }\n",
       "\n",
       "    .dataframe tbody tr th {\n",
       "        vertical-align: top;\n",
       "    }\n",
       "\n",
       "    .dataframe thead th {\n",
       "        text-align: right;\n",
       "    }\n",
       "</style>\n",
       "<table border=\"1\" class=\"dataframe\">\n",
       "  <thead>\n",
       "    <tr style=\"text-align: right;\">\n",
       "      <th></th>\n",
       "      <th>codigo_ocorrencia</th>\n",
       "      <th>codigo_ocorrencia1</th>\n",
       "      <th>codigo_ocorrencia2</th>\n",
       "      <th>codigo_ocorrencia3</th>\n",
       "      <th>codigo_ocorrencia4</th>\n",
       "      <th>ocorrencia_classificacao</th>\n",
       "      <th>ocorrencia_latitude</th>\n",
       "      <th>ocorrencia_longitude</th>\n",
       "      <th>ocorrencia_cidade</th>\n",
       "      <th>ocorrencia_uf</th>\n",
       "      <th>ocorrencia_pais</th>\n",
       "      <th>ocorrencia_aerodromo</th>\n",
       "      <th>ocorrencia_dia</th>\n",
       "      <th>ocorrencia_hora</th>\n",
       "      <th>investigacao_aeronave_liberada</th>\n",
       "      <th>investigacao_status</th>\n",
       "      <th>divulgacao_relatorio_numero</th>\n",
       "      <th>divulgacao_relatorio_publicado</th>\n",
       "      <th>divulgacao_dia_publicacao</th>\n",
       "      <th>total_recomendacoes</th>\n",
       "      <th>total_aeronaves_envolvidas</th>\n",
       "      <th>ocorrencia_saida_pista</th>\n",
       "      <th>meses</th>\n",
       "      <th>ano</th>\n",
       "      <th>aeronave_matricula</th>\n",
       "      <th>aeronave_operador_categoria</th>\n",
       "      <th>aeronave_tipo_veiculo</th>\n",
       "      <th>aeronave_fabricante</th>\n",
       "      <th>aeronave_modelo</th>\n",
       "      <th>aeronave_tipo_icao</th>\n",
       "      <th>aeronave_motor_tipo</th>\n",
       "      <th>aeronave_motor_quantidade</th>\n",
       "      <th>aeronave_pmd</th>\n",
       "      <th>aeronave_pmd_categoria</th>\n",
       "      <th>aeronave_assentos</th>\n",
       "      <th>aeronave_ano_fabricacao</th>\n",
       "      <th>aeronave_pais_fabricante</th>\n",
       "      <th>aeronave_pais_registro</th>\n",
       "      <th>aeronave_registro_categoria</th>\n",
       "      <th>aeronave_registro_segmento</th>\n",
       "      <th>aeronave_voo_origem</th>\n",
       "      <th>aeronave_voo_destino</th>\n",
       "      <th>aeronave_fase_operacao</th>\n",
       "      <th>aeronave_tipo_operacao</th>\n",
       "      <th>aeronave_nivel_dano</th>\n",
       "      <th>aeronave_fatalidades_total</th>\n",
       "      <th>ocorrencia_tipo</th>\n",
       "      <th>ocorrencia_tipo_categoria</th>\n",
       "      <th>taxonomia_tipo_icao</th>\n",
       "    </tr>\n",
       "  </thead>\n",
       "  <tbody>\n",
       "    <tr>\n",
       "      <th>0</th>\n",
       "      <td>52242</td>\n",
       "      <td>52242</td>\n",
       "      <td>52242</td>\n",
       "      <td>52242</td>\n",
       "      <td>52242</td>\n",
       "      <td>INCIDENTE</td>\n",
       "      <td>NaN</td>\n",
       "      <td>NaN</td>\n",
       "      <td>PORTO ALEGRE</td>\n",
       "      <td>RS</td>\n",
       "      <td>BRASIL</td>\n",
       "      <td>SBPA</td>\n",
       "      <td>2012-01-05</td>\n",
       "      <td>20:27:00</td>\n",
       "      <td>***</td>\n",
       "      <td>FINALIZADA</td>\n",
       "      <td>***</td>\n",
       "      <td>NÃO</td>\n",
       "      <td>NaN</td>\n",
       "      <td>0</td>\n",
       "      <td>1</td>\n",
       "      <td>NÃO</td>\n",
       "      <td>1</td>\n",
       "      <td>2012</td>\n",
       "      <td>PRCDL</td>\n",
       "      <td>PARTICULAR</td>\n",
       "      <td>AVIÃO</td>\n",
       "      <td>RAYTHEON AIRCRAFT</td>\n",
       "      <td>58</td>\n",
       "      <td>BE58</td>\n",
       "      <td>PISTÃO</td>\n",
       "      <td>BIMOTOR</td>\n",
       "      <td>2495</td>\n",
       "      <td>2495</td>\n",
       "      <td>6.0</td>\n",
       "      <td>2003.0</td>\n",
       "      <td>BRASIL</td>\n",
       "      <td>BRASIL</td>\n",
       "      <td>AVIÃO</td>\n",
       "      <td>PARTICULAR</td>\n",
       "      <td>FORA DE AERODROMO</td>\n",
       "      <td>FORA DE AERODROMO</td>\n",
       "      <td>POUSO</td>\n",
       "      <td>PRIVADA</td>\n",
       "      <td>LEVE</td>\n",
       "      <td>0</td>\n",
       "      <td>ESTOURO DE PNEU</td>\n",
       "      <td>FALHA OU MAU FUNCIONAMENTO DE SISTEMA / COMPON...</td>\n",
       "      <td>SCF-NP</td>\n",
       "    </tr>\n",
       "    <tr>\n",
       "      <th>1</th>\n",
       "      <td>45331</td>\n",
       "      <td>45331</td>\n",
       "      <td>45331</td>\n",
       "      <td>45331</td>\n",
       "      <td>45331</td>\n",
       "      <td>ACIDENTE</td>\n",
       "      <td>-23.4355555556</td>\n",
       "      <td>-46.4730555556</td>\n",
       "      <td>GUARULHOS</td>\n",
       "      <td>SP</td>\n",
       "      <td>BRASIL</td>\n",
       "      <td>SBGR</td>\n",
       "      <td>2012-01-06</td>\n",
       "      <td>13:44:00</td>\n",
       "      <td>SIM</td>\n",
       "      <td>FINALIZADA</td>\n",
       "      <td>A-582/CENIPA/2014</td>\n",
       "      <td>SIM</td>\n",
       "      <td>2016-09-01</td>\n",
       "      <td>3</td>\n",
       "      <td>1</td>\n",
       "      <td>NÃO</td>\n",
       "      <td>1</td>\n",
       "      <td>2012</td>\n",
       "      <td>PRTKB</td>\n",
       "      <td>***</td>\n",
       "      <td>AVIÃO</td>\n",
       "      <td>AEROSPATIALE AND ALENIA</td>\n",
       "      <td>ATR-42-500</td>\n",
       "      <td>AT45</td>\n",
       "      <td>TURBOÉLICE</td>\n",
       "      <td>BIMOTOR</td>\n",
       "      <td>18600</td>\n",
       "      <td>18600</td>\n",
       "      <td>50.0</td>\n",
       "      <td>2001.0</td>\n",
       "      <td>BRASIL</td>\n",
       "      <td>BRASIL</td>\n",
       "      <td>AVIÃO</td>\n",
       "      <td>REGULAR</td>\n",
       "      <td>FORA DE AERODROMO</td>\n",
       "      <td>FORA DE AERODROMO</td>\n",
       "      <td>DESCIDA</td>\n",
       "      <td>REGULAR</td>\n",
       "      <td>NENHUM</td>\n",
       "      <td>0</td>\n",
       "      <td>COM PESSOAL EM VOO</td>\n",
       "      <td>OUTROS | COM PESSOAL EM VOO</td>\n",
       "      <td>OTHR</td>\n",
       "    </tr>\n",
       "    <tr>\n",
       "      <th>2</th>\n",
       "      <td>45333</td>\n",
       "      <td>45333</td>\n",
       "      <td>45333</td>\n",
       "      <td>45333</td>\n",
       "      <td>45333</td>\n",
       "      <td>ACIDENTE</td>\n",
       "      <td>***</td>\n",
       "      <td>***</td>\n",
       "      <td>VIAMÃO</td>\n",
       "      <td>RS</td>\n",
       "      <td>BRASIL</td>\n",
       "      <td>****</td>\n",
       "      <td>2012-01-06</td>\n",
       "      <td>13:00:00</td>\n",
       "      <td>NaN</td>\n",
       "      <td>FINALIZADA</td>\n",
       "      <td>A-070/CENIPA/2013</td>\n",
       "      <td>SIM</td>\n",
       "      <td>2013-11-27</td>\n",
       "      <td>0</td>\n",
       "      <td>1</td>\n",
       "      <td>NÃO</td>\n",
       "      <td>1</td>\n",
       "      <td>2012</td>\n",
       "      <td>PTGOO</td>\n",
       "      <td>***</td>\n",
       "      <td>AVIÃO</td>\n",
       "      <td>NEIVA INDUSTRIA AERONAUTICA</td>\n",
       "      <td>EMB-201</td>\n",
       "      <td>IPAN</td>\n",
       "      <td>PISTÃO</td>\n",
       "      <td>MONOMOTOR</td>\n",
       "      <td>1800</td>\n",
       "      <td>1800</td>\n",
       "      <td>1.0</td>\n",
       "      <td>1976.0</td>\n",
       "      <td>BRASIL</td>\n",
       "      <td>BRASIL</td>\n",
       "      <td>AVIÃO</td>\n",
       "      <td>ESPECIALIZADA</td>\n",
       "      <td>FORA DE AERODROMO</td>\n",
       "      <td>FORA DE AERODROMO</td>\n",
       "      <td>ESPECIALIZADA</td>\n",
       "      <td>AGRÍCOLA</td>\n",
       "      <td>SUBSTANCIAL</td>\n",
       "      <td>0</td>\n",
       "      <td>FALHA DO MOTOR EM VOO</td>\n",
       "      <td>FALHA OU MAU FUNCIONAMENTO DO MOTOR | FALHA DO...</td>\n",
       "      <td>SCF-PP</td>\n",
       "    </tr>\n",
       "    <tr>\n",
       "      <th>3</th>\n",
       "      <td>45401</td>\n",
       "      <td>45401</td>\n",
       "      <td>45401</td>\n",
       "      <td>45401</td>\n",
       "      <td>45401</td>\n",
       "      <td>ACIDENTE</td>\n",
       "      <td>***</td>\n",
       "      <td>***</td>\n",
       "      <td>SÃO SEBASTIÃO</td>\n",
       "      <td>SP</td>\n",
       "      <td>BRASIL</td>\n",
       "      <td>****</td>\n",
       "      <td>2012-01-06</td>\n",
       "      <td>17:00:00</td>\n",
       "      <td>***</td>\n",
       "      <td>NaN</td>\n",
       "      <td>NaN</td>\n",
       "      <td>NÃO</td>\n",
       "      <td>NaN</td>\n",
       "      <td>0</td>\n",
       "      <td>1</td>\n",
       "      <td>NÃO</td>\n",
       "      <td>1</td>\n",
       "      <td>2012</td>\n",
       "      <td>PUUSS</td>\n",
       "      <td>EXPERIMENTAL</td>\n",
       "      <td>ULTRALEVE</td>\n",
       "      <td>***</td>\n",
       "      <td>P2004 BRAVO</td>\n",
       "      <td>ULAC</td>\n",
       "      <td>PISTÃO</td>\n",
       "      <td>MONOMOTOR</td>\n",
       "      <td>580</td>\n",
       "      <td>580</td>\n",
       "      <td>2.0</td>\n",
       "      <td>2007.0</td>\n",
       "      <td>BRASIL</td>\n",
       "      <td>BRASIL</td>\n",
       "      <td>ULTRALEVE</td>\n",
       "      <td>EXPERIMENTAL</td>\n",
       "      <td>FORA DE AERODROMO</td>\n",
       "      <td>FORA DE AERODROMO</td>\n",
       "      <td>CRUZEIRO</td>\n",
       "      <td>EXPERIMENTAL</td>\n",
       "      <td>LEVE</td>\n",
       "      <td>0</td>\n",
       "      <td>FALHA DO MOTOR EM VOO</td>\n",
       "      <td>FALHA OU MAU FUNCIONAMENTO DO MOTOR | FALHA DO...</td>\n",
       "      <td>SCF-PP</td>\n",
       "    </tr>\n",
       "    <tr>\n",
       "      <th>4</th>\n",
       "      <td>45407</td>\n",
       "      <td>45407</td>\n",
       "      <td>45407</td>\n",
       "      <td>45407</td>\n",
       "      <td>45407</td>\n",
       "      <td>ACIDENTE</td>\n",
       "      <td>***</td>\n",
       "      <td>***</td>\n",
       "      <td>SÃO SEPÉ</td>\n",
       "      <td>RS</td>\n",
       "      <td>BRASIL</td>\n",
       "      <td>****</td>\n",
       "      <td>2012-01-06</td>\n",
       "      <td>16:30:00</td>\n",
       "      <td>SIM</td>\n",
       "      <td>FINALIZADA</td>\n",
       "      <td>A-071/CENIPA/2013</td>\n",
       "      <td>SIM</td>\n",
       "      <td>2013-11-27</td>\n",
       "      <td>0</td>\n",
       "      <td>1</td>\n",
       "      <td>NÃO</td>\n",
       "      <td>1</td>\n",
       "      <td>2012</td>\n",
       "      <td>PTUCL</td>\n",
       "      <td>***</td>\n",
       "      <td>AVIÃO</td>\n",
       "      <td>NEIVA INDUSTRIA AERONAUTICA</td>\n",
       "      <td>EMB-201A</td>\n",
       "      <td>IPAN</td>\n",
       "      <td>PISTÃO</td>\n",
       "      <td>MONOMOTOR</td>\n",
       "      <td>1800</td>\n",
       "      <td>1800</td>\n",
       "      <td>1.0</td>\n",
       "      <td>1986.0</td>\n",
       "      <td>BRASIL</td>\n",
       "      <td>BRASIL</td>\n",
       "      <td>AVIÃO</td>\n",
       "      <td>ESPECIALIZADA</td>\n",
       "      <td>FORA DE AERODROMO</td>\n",
       "      <td>FORA DE AERODROMO</td>\n",
       "      <td>POUSO</td>\n",
       "      <td>AGRÍCOLA</td>\n",
       "      <td>SUBSTANCIAL</td>\n",
       "      <td>0</td>\n",
       "      <td>PERDA DE CONTROLE NO SOLO</td>\n",
       "      <td>PERDA DE CONTROLE NO SOLO</td>\n",
       "      <td>LOC-G</td>\n",
       "    </tr>\n",
       "  </tbody>\n",
       "</table>\n",
       "</div>"
      ],
      "text/plain": [
       "   codigo_ocorrencia  codigo_ocorrencia1  codigo_ocorrencia2  \\\n",
       "0              52242               52242               52242   \n",
       "1              45331               45331               45331   \n",
       "2              45333               45333               45333   \n",
       "3              45401               45401               45401   \n",
       "4              45407               45407               45407   \n",
       "\n",
       "   codigo_ocorrencia3  codigo_ocorrencia4 ocorrencia_classificacao  \\\n",
       "0               52242               52242                INCIDENTE   \n",
       "1               45331               45331                 ACIDENTE   \n",
       "2               45333               45333                 ACIDENTE   \n",
       "3               45401               45401                 ACIDENTE   \n",
       "4               45407               45407                 ACIDENTE   \n",
       "\n",
       "  ocorrencia_latitude ocorrencia_longitude ocorrencia_cidade ocorrencia_uf  \\\n",
       "0                 NaN                  NaN      PORTO ALEGRE            RS   \n",
       "1      -23.4355555556       -46.4730555556         GUARULHOS            SP   \n",
       "2                 ***                  ***            VIAMÃO            RS   \n",
       "3                 ***                  ***     SÃO SEBASTIÃO            SP   \n",
       "4                 ***                  ***          SÃO SEPÉ            RS   \n",
       "\n",
       "  ocorrencia_pais ocorrencia_aerodromo ocorrencia_dia ocorrencia_hora  \\\n",
       "0          BRASIL                 SBPA     2012-01-05        20:27:00   \n",
       "1          BRASIL                 SBGR     2012-01-06        13:44:00   \n",
       "2          BRASIL                 ****     2012-01-06        13:00:00   \n",
       "3          BRASIL                 ****     2012-01-06        17:00:00   \n",
       "4          BRASIL                 ****     2012-01-06        16:30:00   \n",
       "\n",
       "  investigacao_aeronave_liberada investigacao_status  \\\n",
       "0                            ***          FINALIZADA   \n",
       "1                            SIM          FINALIZADA   \n",
       "2                            NaN          FINALIZADA   \n",
       "3                            ***                 NaN   \n",
       "4                            SIM          FINALIZADA   \n",
       "\n",
       "  divulgacao_relatorio_numero divulgacao_relatorio_publicado  \\\n",
       "0                         ***                            NÃO   \n",
       "1           A-582/CENIPA/2014                            SIM   \n",
       "2           A-070/CENIPA/2013                            SIM   \n",
       "3                         NaN                            NÃO   \n",
       "4           A-071/CENIPA/2013                            SIM   \n",
       "\n",
       "  divulgacao_dia_publicacao  total_recomendacoes  total_aeronaves_envolvidas  \\\n",
       "0                       NaN                    0                           1   \n",
       "1                2016-09-01                    3                           1   \n",
       "2                2013-11-27                    0                           1   \n",
       "3                       NaN                    0                           1   \n",
       "4                2013-11-27                    0                           1   \n",
       "\n",
       "  ocorrencia_saida_pista  meses   ano aeronave_matricula  \\\n",
       "0                    NÃO      1  2012              PRCDL   \n",
       "1                    NÃO      1  2012              PRTKB   \n",
       "2                    NÃO      1  2012              PTGOO   \n",
       "3                    NÃO      1  2012              PUUSS   \n",
       "4                    NÃO      1  2012              PTUCL   \n",
       "\n",
       "  aeronave_operador_categoria aeronave_tipo_veiculo  \\\n",
       "0                  PARTICULAR                 AVIÃO   \n",
       "1                         ***                 AVIÃO   \n",
       "2                         ***                 AVIÃO   \n",
       "3                EXPERIMENTAL             ULTRALEVE   \n",
       "4                         ***                 AVIÃO   \n",
       "\n",
       "           aeronave_fabricante aeronave_modelo aeronave_tipo_icao  \\\n",
       "0            RAYTHEON AIRCRAFT              58               BE58   \n",
       "1      AEROSPATIALE AND ALENIA      ATR-42-500               AT45   \n",
       "2  NEIVA INDUSTRIA AERONAUTICA         EMB-201               IPAN   \n",
       "3                          ***     P2004 BRAVO               ULAC   \n",
       "4  NEIVA INDUSTRIA AERONAUTICA        EMB-201A               IPAN   \n",
       "\n",
       "  aeronave_motor_tipo aeronave_motor_quantidade  aeronave_pmd  \\\n",
       "0              PISTÃO                   BIMOTOR          2495   \n",
       "1          TURBOÉLICE                   BIMOTOR         18600   \n",
       "2              PISTÃO                 MONOMOTOR          1800   \n",
       "3              PISTÃO                 MONOMOTOR           580   \n",
       "4              PISTÃO                 MONOMOTOR          1800   \n",
       "\n",
       "   aeronave_pmd_categoria  aeronave_assentos  aeronave_ano_fabricacao  \\\n",
       "0                    2495                6.0                   2003.0   \n",
       "1                   18600               50.0                   2001.0   \n",
       "2                    1800                1.0                   1976.0   \n",
       "3                     580                2.0                   2007.0   \n",
       "4                    1800                1.0                   1986.0   \n",
       "\n",
       "  aeronave_pais_fabricante aeronave_pais_registro aeronave_registro_categoria  \\\n",
       "0                   BRASIL                 BRASIL                       AVIÃO   \n",
       "1                   BRASIL                 BRASIL                       AVIÃO   \n",
       "2                   BRASIL                 BRASIL                       AVIÃO   \n",
       "3                   BRASIL                 BRASIL                   ULTRALEVE   \n",
       "4                   BRASIL                 BRASIL                       AVIÃO   \n",
       "\n",
       "  aeronave_registro_segmento aeronave_voo_origem aeronave_voo_destino  \\\n",
       "0                 PARTICULAR   FORA DE AERODROMO    FORA DE AERODROMO   \n",
       "1                    REGULAR   FORA DE AERODROMO    FORA DE AERODROMO   \n",
       "2              ESPECIALIZADA   FORA DE AERODROMO    FORA DE AERODROMO   \n",
       "3               EXPERIMENTAL   FORA DE AERODROMO    FORA DE AERODROMO   \n",
       "4              ESPECIALIZADA   FORA DE AERODROMO    FORA DE AERODROMO   \n",
       "\n",
       "  aeronave_fase_operacao aeronave_tipo_operacao aeronave_nivel_dano  \\\n",
       "0                  POUSO                PRIVADA                LEVE   \n",
       "1                DESCIDA                REGULAR              NENHUM   \n",
       "2          ESPECIALIZADA               AGRÍCOLA         SUBSTANCIAL   \n",
       "3               CRUZEIRO           EXPERIMENTAL                LEVE   \n",
       "4                  POUSO               AGRÍCOLA         SUBSTANCIAL   \n",
       "\n",
       "   aeronave_fatalidades_total            ocorrencia_tipo  \\\n",
       "0                           0            ESTOURO DE PNEU   \n",
       "1                           0         COM PESSOAL EM VOO   \n",
       "2                           0      FALHA DO MOTOR EM VOO   \n",
       "3                           0      FALHA DO MOTOR EM VOO   \n",
       "4                           0  PERDA DE CONTROLE NO SOLO   \n",
       "\n",
       "                           ocorrencia_tipo_categoria taxonomia_tipo_icao  \n",
       "0  FALHA OU MAU FUNCIONAMENTO DE SISTEMA / COMPON...              SCF-NP  \n",
       "1                        OUTROS | COM PESSOAL EM VOO                OTHR  \n",
       "2  FALHA OU MAU FUNCIONAMENTO DO MOTOR | FALHA DO...              SCF-PP  \n",
       "3  FALHA OU MAU FUNCIONAMENTO DO MOTOR | FALHA DO...              SCF-PP  \n",
       "4                          PERDA DE CONTROLE NO SOLO               LOC-G  "
      ]
     },
     "execution_count": 35,
     "metadata": {},
     "output_type": "execute_result"
    }
   ],
   "source": [
    "oc_tipo = pd.merge(oc_aeronave, ocorrencia_tipo, on=[\"codigo_ocorrencia1\",\"codigo_ocorrencia1\"], how=\"left\")\n",
    "oc_tipo.head()"
   ]
  },
  {
   "cell_type": "code",
   "execution_count": 36,
   "id": "6d9bd920",
   "metadata": {},
   "outputs": [],
   "source": [
    "falha_motor = oc_tipo[(oc_tipo['ocorrencia_tipo'] == 'FALHA DO MOTOR EM VOO')].copy()"
   ]
  },
  {
   "cell_type": "code",
   "execution_count": 37,
   "id": "9355c881",
   "metadata": {
    "scrolled": true
   },
   "outputs": [
    {
     "data": {
      "image/png": "[encoded data removed]",
      "text/plain": [
       "<Figure size 1080x288 with 1 Axes>"
      ]
     },
     "metadata": {
      "needs_background": "light"
     },
     "output_type": "display_data"
    }
   ],
   "source": [
    "ax1 = falha_motor['aeronave_motor_tipo'].value_counts().rename_axis('motor').reset_index(name='contagem')\n",
    "\n",
    "plt.figure(figsize=(15, 4))\n",
    "ta = plt.bar(ax1['motor'], ax1['contagem'])\n",
    "plt.bar_label(ta)\n",
    "plt.xticks(ax1['motor'])\n",
    "plt.title('OCORRÊNCIA DE FALHA POR TIPO DE MOTOR ')\n",
    "plt.ylabel('Ocorrências de Falha')\n",
    "plt.xlabel('Tipo de Motor')\n",
    "\n",
    "plt.savefig(\"H8.jpg\",dpi=300)\n",
    "plt.show()"
   ]
  },
  {
   "cell_type": "markdown",
   "id": "1e650d77",
   "metadata": {},
   "source": [
    "# ---------------------------------------------------------------------------------------------------------------"
   ]
  },
  {
   "cell_type": "markdown",
   "id": "33aeb9c0",
   "metadata": {},
   "source": [
    "## H9: As aeronaves que apresentaram a maior quantidade de ocorrencia por falha de motor em voo, são as aeronaves mais antigas."
   ]
  },
  {
   "cell_type": "code",
   "execution_count": 38,
   "id": "9d724f34",
   "metadata": {},
   "outputs": [],
   "source": [
    "#Gráfico 1\n",
    "ax1 = falha_motor['aeronave_ano_fabricacao'].value_counts().head(10).rename_axis('ano').reset_index(name='contagem')\n",
    "ax1['ano'] = ax1.ano.apply(int).apply(str).replace('0', 'ANR') # ANO NÃO REGISTRADO\n",
    "\n",
    "#Gráfico 2\n",
    "ax2 = falha_motor['aeronave_ano_fabricacao'].value_counts().rename_axis('ano').reset_index(name='contagem')\n",
    "ax2 = ax2.sort_values('ano').head(10)\n",
    "ax2['ano'] = ax2.ano.apply(int).apply(str).replace('0', 'ANR') # ANO NÃO REGISTRADO"
   ]
  },
  {
   "cell_type": "code",
   "execution_count": 39,
   "id": "47f3bd4a",
   "metadata": {},
   "outputs": [
    {
     "data": {
      "image/png": "[encoded data removed]",
      "text/plain": [
       "<Figure size 1080x288 with 2 Axes>"
      ]
     },
     "metadata": {
      "needs_background": "light"
     },
     "output_type": "display_data"
    }
   ],
   "source": [
    "plt.figure(figsize=(15, 4))\n",
    "\n",
    "plt.subplot(1,2,1)\n",
    "ta = plt.bar(ax1['ano'], ax1['contagem'])\n",
    "plt.bar_label(ta)\n",
    "plt.title('FALHA DE MOTOR POR ANO DE FABRICAÇÃO (TOP 10)')\n",
    "plt.ylabel('Ocorrências')\n",
    "plt.xlabel('Ano de Fabricação')\n",
    "\n",
    "plt.subplot(1,2,2)\n",
    "ta = plt.bar(ax2['ano'], ax2['contagem'])\n",
    "plt.bar_label(ta)\n",
    "plt.title('10 PRIMEIROS ANOS DE FABRICAÇÃO REGISTRADOS')\n",
    "plt.ylabel('Ocorrências')\n",
    "plt.xlabel('Ano de Fabricação')\n",
    "\n",
    "plt.savefig(\"H9.jpg\",dpi=300)\n",
    "plt.show()"
   ]
  }
 ],
 "metadata": {
  "kernelspec": {
   "display_name": "Python 3 (ipykernel)",
   "language": "python",
   "name": "python3"
  },
  "language_info": {
   "codemirror_mode": {
    "name": "ipython",
    "version": 3
   },
   "file_extension": ".py",
   "mimetype": "text/x-python",
   "name": "python",
   "nbconvert_exporter": "python",
   "pygments_lexer": "ipython3",
   "version": "3.8.12"
  }
 },
 "nbformat": 4,
 "nbformat_minor": 5
}
